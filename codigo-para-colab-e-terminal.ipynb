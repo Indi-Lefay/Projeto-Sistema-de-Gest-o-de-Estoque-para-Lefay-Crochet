{
  "nbformat": 4,
  "nbformat_minor": 0,
  "metadata": {
    "colab": {
      "provenance": [],
      "authorship_tag": "ABX9TyP5LgJWR3Xc3+PJv6jwfG5A",
      "include_colab_link": true
    },
    "kernelspec": {
      "name": "python3",
      "display_name": "Python 3"
    },
    "language_info": {
      "name": "python"
    }
  },
  "cells": [
    {
      "cell_type": "markdown",
      "metadata": {
        "id": "view-in-github",
        "colab_type": "text"
      },
      "source": [
        "<a href=\"https://colab.research.google.com/github/Indi-Lefay/Projeto-Sistema-de-Gest-o-de-Estoque-para-Lefay-Crochet/blob/main/codigo-para-colab-e-terminal.ipynb\" target=\"_parent\"><img src=\"https://colab.research.google.com/assets/colab-badge.svg\" alt=\"Open In Colab\"/></a>"
      ]
    },
    {
      "cell_type": "code",
      "execution_count": null,
      "metadata": {
        "id": "tH8SqigJQvsr"
      },
      "outputs": [],
      "source": [
        "# 🧵 Sistema de Gestão da Minha Lojinha de Crochê no Google Colab 🧶\n",
        "\n",
        "import sqlite3\n",
        "\n",
        "# 📦 Parte 1: Banco de Dados\n",
        "\n",
        "def conectar():\n",
        "    \"\"\"Conectar ao banco de dados (arquivo local do Colab)\"\"\"\n",
        "    conexao = sqlite3.connect(\"estoque.db\")\n",
        "    return conexao\n",
        "\n",
        "def criar_tabela():\n",
        "    \"\"\"Criar a tabela de produtos se ela ainda não existir\"\"\"\n",
        "    conexao = conectar()\n",
        "    cursor = conexao.cursor()\n",
        "\n",
        "    cursor.execute('''\n",
        "    CREATE TABLE IF NOT EXISTS produtos (\n",
        "        id INTEGER PRIMARY KEY AUTOINCREMENT,\n",
        "        nome TEXT NOT NULL,\n",
        "        categoria TEXT NOT NULL,\n",
        "        preco_venda REAL NOT NULL,\n",
        "        quantidade INTEGER NOT NULL,\n",
        "        materiais TEXT\n",
        "    )\n",
        "    ''')\n",
        "\n",
        "    conexao.commit()\n",
        "    conexao.close()\n",
        "\n"
      ]
    },
    {
      "cell_type": "code",
      "source": [
        "# 📋 Função para gerar um Excel do estoque usando pandas\n",
        "\n",
        "import pandas as pd\n",
        "\n",
        "def exportar_para_excel():\n",
        "    \"\"\"Exporta a tabela de produtos para um arquivo Excel bonitinho\"\"\"\n",
        "    conexao = conectar()\n",
        "    df = pd.read_sql_query(\"SELECT * FROM produtos\", conexao)\n",
        "    conexao.close()\n",
        "\n",
        "    df.to_excel(\"estoque_loja_croche.xlsx\", index=False)\n",
        "    print(\"✨ Arquivo Excel criado com sucesso!\")\n",
        "\n",
        "    # Depois de criar, já disponibiliza para download\n",
        "    from google.colab import files\n",
        "    files.download(\"estoque_loja_croche.xlsx\")"
      ],
      "metadata": {
        "id": "DudA9ao_Teeq"
      },
      "execution_count": null,
      "outputs": []
    },
    {
      "cell_type": "code",
      "source": [
        "# 📦 Parte 2: Funções da Lojinha\n",
        "\n",
        "def cadastrar_produto():\n",
        "    conexao = conectar()\n",
        "    cursor = conexao.cursor()\n",
        "\n",
        "    print(\"\\n💖 Cadastro de Novo Produto 💖\")\n",
        "    nome = input(\"Nome do produto: \")\n",
        "    categoria = input(\"Categoria (Chaveiro, Amigurumi, etc): \")\n",
        "    preco_venda = float(input(\"Preço de venda (ex: 15.00): \"))\n",
        "    quantidade = int(input(\"Quantidade disponível: \"))\n",
        "    materiais = input(\"Materiais usados (opcional): \")\n",
        "\n",
        "    cursor.execute('''\n",
        "    INSERT INTO produtos (nome, categoria, preco_venda, quantidade, materiais)\n",
        "    VALUES (?, ?, ?, ?, ?)\n",
        "    ''', (nome, categoria, preco_venda, quantidade, materiais))\n",
        "\n",
        "    conexao.commit()\n",
        "    conexao.close()\n",
        "    print(\"✨ Produto cadastrado com sucesso! ✨\\n\")\n",
        "\n",
        "def listar_produtos():\n",
        "    conexao = conectar()\n",
        "    cursor = conexao.cursor()\n",
        "\n",
        "    cursor.execute(\"SELECT * FROM produtos\")\n",
        "    produtos = cursor.fetchall()\n",
        "\n",
        "    print(\"\\n🧶 Produtos no Estoque 🧶\")\n",
        "    for produto in produtos:\n",
        "        print(f\"ID: {produto[0]} | Nome: {produto[1]} | Categoria: {produto[2]} | Preço: R${produto[3]:.2f} | Quantidade: {produto[4]} | Materiais: {produto[5]}\")\n",
        "\n",
        "    conexao.close()\n",
        "    print()\n",
        "\n",
        "def atualizar_estoque():\n",
        "    conexao = conectar()\n",
        "    cursor = conexao.cursor()\n",
        "\n",
        "    id_produto = int(input(\"Digite o ID do produto que deseja atualizar: \"))\n",
        "    tipo_movimentacao = input(\"Você quer adicionar ou remover unidades? (adicionar/remover): \").lower()\n",
        "    quantidade = int(input(\"Quantas unidades? \"))\n",
        "\n",
        "    if tipo_movimentacao == \"adicionar\":\n",
        "        cursor.execute(\"UPDATE produtos SET quantidade = quantidade + ? WHERE id = ?\", (quantidade, id_produto))\n",
        "    elif tipo_movimentacao == \"remover\":\n",
        "        cursor.execute(\"UPDATE produtos SET quantidade = quantidade - ? WHERE id = ?\", (quantidade, id_produto))\n",
        "    else:\n",
        "        print(\"❌ Opção inválida!\")\n",
        "\n",
        "    conexao.commit()\n",
        "    conexao.close()\n",
        "    print(\"🧵 Estoque atualizado!\\n\")\n",
        "\n",
        "def consultar_produto():\n",
        "    conexao = conectar()\n",
        "    cursor = conexao.cursor()\n",
        "\n",
        "    nome = input(\"Digite o nome do produto que quer consultar: \")\n",
        "\n",
        "    cursor.execute(\"SELECT * FROM produtos WHERE nome LIKE ?\", (f'%{nome}%',))\n",
        "    produtos = cursor.fetchall()\n",
        "\n",
        "    if produtos:\n",
        "        print(\"\\n🔎 Resultado da busca:\")\n",
        "        for produto in produtos:\n",
        "            print(f\"ID: {produto[0]} | Nome: {produto[1]} | Categoria: {produto[2]} | Preço: R${produto[3]:.2f} | Quantidade: {produto[4]} | Materiais: {produto[5]}\")\n",
        "    else:\n",
        "        print(\"❌ Produto não encontrado!\")\n",
        "\n",
        "    conexao.close()\n",
        "    print()\n",
        "\n",
        "# 📦 Parte 3: Menu Lindo\n",
        "\n",
        "def menu():\n",
        "    criar_tabela()  # Garante que a tabela exista\n",
        "\n",
        "    while True:\n",
        "        print(\"\\n----- Lojinha de Crochê: Gestão de Estoque 🧶 -----\")\n",
        "        print(\"1. Cadastrar novo produto\")\n",
        "        print(\"2. Listar todos os produtos\")\n",
        "        print(\"3. Atualizar estoque\")\n",
        "        print(\"4. Consultar produto\")\n",
        "        print(\"5. Gerar Excel do estoque\")\n",
        "        print(\"6. Sair\")\n",
        "        opcao = input(\"Escolha uma opção: \")\n",
        "\n",
        "        if opcao == \"1\":\n",
        "            cadastrar_produto()\n",
        "        elif opcao == \"2\":\n",
        "            listar_produtos()\n",
        "        elif opcao == \"3\":\n",
        "            atualizar_estoque()\n",
        "        elif opcao == \"4\":\n",
        "            consultar_produto()\n",
        "        elif opcao == \"5\":\n",
        "            exportar_para_excel()\n",
        "        elif opcao == \"6\":\n",
        "            print(\"🌸 Obrigada por usar o sistema da sua lojinha! Até logo! 🌸\")\n",
        "            break\n",
        "        else:\n",
        "            print(\"❌ Opção inválida! Tente novamente.\")\n",
        "# 🏁 Chamando o menu para começar a brincadeira:\n",
        "menu()\n"
      ],
      "metadata": {
        "colab": {
          "base_uri": "https://localhost:8080/",
          "height": 899
        },
        "id": "SJ0H_16ORJ0j",
        "outputId": "70274bc3-716f-45b3-a60e-47794fd35162"
      },
      "execution_count": null,
      "outputs": [
        {
          "metadata": {
            "tags": null
          },
          "name": "stdout",
          "output_type": "stream",
          "text": [
            "\n",
            "----- Lojinha de Crochê: Gestão de Estoque 🧶 -----\n",
            "1. Cadastrar novo produto\n",
            "2. Listar todos os produtos\n",
            "3. Atualizar estoque\n",
            "4. Consultar produto\n",
            "5. Gerar Excel do estoque\n",
            "6. Sair\n",
            "\n",
            "🧶 Produtos no Estoque 🧶\n",
            "ID: 1 | Nome: amigurumi baleia | Categoria: chaveiro | Preço: R$15.00 | Quantidade: 5 | Materiais: linha e olhinhos\n",
            "ID: 2 | Nome: baleia | Categoria: chaveiro | Preço: R$15.00 | Quantidade: 5 | Materiais: \n",
            "ID: 3 | Nome: lula | Categoria: chaveiro | Preço: R$20.00 | Quantidade: 2 | Materiais: \n",
            "\n",
            "\n",
            "----- Lojinha de Crochê: Gestão de Estoque 🧶 -----\n",
            "1. Cadastrar novo produto\n",
            "2. Listar todos os produtos\n",
            "3. Atualizar estoque\n",
            "4. Consultar produto\n",
            "5. Gerar Excel do estoque\n",
            "6. Sair\n",
            "✨ Arquivo Excel criado com sucesso!\n"
          ]
        },
        {
          "data": {
            "application/javascript": [
              "\n",
              "    async function download(id, filename, size) {\n",
              "      if (!google.colab.kernel.accessAllowed) {\n",
              "        return;\n",
              "      }\n",
              "      const div = document.createElement('div');\n",
              "      const label = document.createElement('label');\n",
              "      label.textContent = `Downloading \"${filename}\": `;\n",
              "      div.appendChild(label);\n",
              "      const progress = document.createElement('progress');\n",
              "      progress.max = size;\n",
              "      div.appendChild(progress);\n",
              "      document.body.appendChild(div);\n",
              "\n",
              "      const buffers = [];\n",
              "      let downloaded = 0;\n",
              "\n",
              "      const channel = await google.colab.kernel.comms.open(id);\n",
              "      // Send a message to notify the kernel that we're ready.\n",
              "      channel.send({})\n",
              "\n",
              "      for await (const message of channel.messages) {\n",
              "        // Send a message to notify the kernel that we're ready.\n",
              "        channel.send({})\n",
              "        if (message.buffers) {\n",
              "          for (const buffer of message.buffers) {\n",
              "            buffers.push(buffer);\n",
              "            downloaded += buffer.byteLength;\n",
              "            progress.value = downloaded;\n",
              "          }\n",
              "        }\n",
              "      }\n",
              "      const blob = new Blob(buffers, {type: 'application/binary'});\n",
              "      const a = document.createElement('a');\n",
              "      a.href = window.URL.createObjectURL(blob);\n",
              "      a.download = filename;\n",
              "      div.appendChild(a);\n",
              "      a.click();\n",
              "      div.remove();\n",
              "    }\n",
              "  "
            ],
            "text/plain": [
              "<IPython.core.display.Javascript object>"
            ]
          },
          "metadata": {},
          "output_type": "display_data"
        },
        {
          "data": {
            "application/javascript": [
              "download(\"download_ad5c4548-73bc-47d4-acb2-bb1547f9e5df\", \"estoque_loja_croche.xlsx\", 5106)"
            ],
            "text/plain": [
              "<IPython.core.display.Javascript object>"
            ]
          },
          "metadata": {},
          "output_type": "display_data"
        },
        {
          "metadata": {
            "tags": null
          },
          "name": "stdout",
          "output_type": "stream",
          "text": [
            "\n",
            "----- Lojinha de Crochê: Gestão de Estoque 🧶 -----\n",
            "1. Cadastrar novo produto\n",
            "2. Listar todos os produtos\n",
            "3. Atualizar estoque\n",
            "4. Consultar produto\n",
            "5. Gerar Excel do estoque\n",
            "6. Sair\n"
          ]
        },
        {
          "output_type": "error",
          "ename": "KeyboardInterrupt",
          "evalue": "Interrupted by user",
          "traceback": [
            "\u001b[0;31m---------------------------------------------------------------------------\u001b[0m",
            "\u001b[0;31mKeyboardInterrupt\u001b[0m                         Traceback (most recent call last)",
            "\u001b[0;32m<ipython-input-10-1f53db3c8984>\u001b[0m in \u001b[0;36m<cell line: 0>\u001b[0;34m()\u001b[0m\n\u001b[1;32m    104\u001b[0m             \u001b[0mprint\u001b[0m\u001b[0;34m(\u001b[0m\u001b[0;34m\"❌ Opção inválida! Tente novamente.\"\u001b[0m\u001b[0;34m)\u001b[0m\u001b[0;34m\u001b[0m\u001b[0;34m\u001b[0m\u001b[0m\n\u001b[1;32m    105\u001b[0m \u001b[0;31m# 🏁 Chamando o menu para começar a brincadeira:\u001b[0m\u001b[0;34m\u001b[0m\u001b[0;34m\u001b[0m\u001b[0m\n\u001b[0;32m--> 106\u001b[0;31m \u001b[0mmenu\u001b[0m\u001b[0;34m(\u001b[0m\u001b[0;34m)\u001b[0m\u001b[0;34m\u001b[0m\u001b[0;34m\u001b[0m\u001b[0m\n\u001b[0m",
            "\u001b[0;32m<ipython-input-10-1f53db3c8984>\u001b[0m in \u001b[0;36mmenu\u001b[0;34m()\u001b[0m\n\u001b[1;32m     86\u001b[0m         \u001b[0mprint\u001b[0m\u001b[0;34m(\u001b[0m\u001b[0;34m\"5. Gerar Excel do estoque\"\u001b[0m\u001b[0;34m)\u001b[0m\u001b[0;34m\u001b[0m\u001b[0;34m\u001b[0m\u001b[0m\n\u001b[1;32m     87\u001b[0m         \u001b[0mprint\u001b[0m\u001b[0;34m(\u001b[0m\u001b[0;34m\"6. Sair\"\u001b[0m\u001b[0;34m)\u001b[0m\u001b[0;34m\u001b[0m\u001b[0;34m\u001b[0m\u001b[0m\n\u001b[0;32m---> 88\u001b[0;31m         \u001b[0mopcao\u001b[0m \u001b[0;34m=\u001b[0m \u001b[0minput\u001b[0m\u001b[0;34m(\u001b[0m\u001b[0;34m\"Escolha uma opção: \"\u001b[0m\u001b[0;34m)\u001b[0m\u001b[0;34m\u001b[0m\u001b[0;34m\u001b[0m\u001b[0m\n\u001b[0m\u001b[1;32m     89\u001b[0m \u001b[0;34m\u001b[0m\u001b[0m\n\u001b[1;32m     90\u001b[0m         \u001b[0;32mif\u001b[0m \u001b[0mopcao\u001b[0m \u001b[0;34m==\u001b[0m \u001b[0;34m\"1\"\u001b[0m\u001b[0;34m:\u001b[0m\u001b[0;34m\u001b[0m\u001b[0;34m\u001b[0m\u001b[0m\n",
            "\u001b[0;32m/usr/local/lib/python3.11/dist-packages/ipykernel/kernelbase.py\u001b[0m in \u001b[0;36mraw_input\u001b[0;34m(self, prompt)\u001b[0m\n\u001b[1;32m   1175\u001b[0m                 \u001b[0;34m\"raw_input was called, but this frontend does not support input requests.\"\u001b[0m\u001b[0;34m\u001b[0m\u001b[0;34m\u001b[0m\u001b[0m\n\u001b[1;32m   1176\u001b[0m             )\n\u001b[0;32m-> 1177\u001b[0;31m         return self._input_request(\n\u001b[0m\u001b[1;32m   1178\u001b[0m             \u001b[0mstr\u001b[0m\u001b[0;34m(\u001b[0m\u001b[0mprompt\u001b[0m\u001b[0;34m)\u001b[0m\u001b[0;34m,\u001b[0m\u001b[0;34m\u001b[0m\u001b[0;34m\u001b[0m\u001b[0m\n\u001b[1;32m   1179\u001b[0m             \u001b[0mself\u001b[0m\u001b[0;34m.\u001b[0m\u001b[0m_parent_ident\u001b[0m\u001b[0;34m[\u001b[0m\u001b[0;34m\"shell\"\u001b[0m\u001b[0;34m]\u001b[0m\u001b[0;34m,\u001b[0m\u001b[0;34m\u001b[0m\u001b[0;34m\u001b[0m\u001b[0m\n",
            "\u001b[0;32m/usr/local/lib/python3.11/dist-packages/ipykernel/kernelbase.py\u001b[0m in \u001b[0;36m_input_request\u001b[0;34m(self, prompt, ident, parent, password)\u001b[0m\n\u001b[1;32m   1217\u001b[0m             \u001b[0;32mexcept\u001b[0m \u001b[0mKeyboardInterrupt\u001b[0m\u001b[0;34m:\u001b[0m\u001b[0;34m\u001b[0m\u001b[0;34m\u001b[0m\u001b[0m\n\u001b[1;32m   1218\u001b[0m                 \u001b[0;31m# re-raise KeyboardInterrupt, to truncate traceback\u001b[0m\u001b[0;34m\u001b[0m\u001b[0;34m\u001b[0m\u001b[0m\n\u001b[0;32m-> 1219\u001b[0;31m                 \u001b[0;32mraise\u001b[0m \u001b[0mKeyboardInterrupt\u001b[0m\u001b[0;34m(\u001b[0m\u001b[0;34m\"Interrupted by user\"\u001b[0m\u001b[0;34m)\u001b[0m \u001b[0;32mfrom\u001b[0m \u001b[0;32mNone\u001b[0m\u001b[0;34m\u001b[0m\u001b[0;34m\u001b[0m\u001b[0m\n\u001b[0m\u001b[1;32m   1220\u001b[0m             \u001b[0;32mexcept\u001b[0m \u001b[0mException\u001b[0m\u001b[0;34m:\u001b[0m\u001b[0;34m\u001b[0m\u001b[0;34m\u001b[0m\u001b[0m\n\u001b[1;32m   1221\u001b[0m                 \u001b[0mself\u001b[0m\u001b[0;34m.\u001b[0m\u001b[0mlog\u001b[0m\u001b[0;34m.\u001b[0m\u001b[0mwarning\u001b[0m\u001b[0;34m(\u001b[0m\u001b[0;34m\"Invalid Message:\"\u001b[0m\u001b[0;34m,\u001b[0m \u001b[0mexc_info\u001b[0m\u001b[0;34m=\u001b[0m\u001b[0;32mTrue\u001b[0m\u001b[0;34m)\u001b[0m\u001b[0;34m\u001b[0m\u001b[0;34m\u001b[0m\u001b[0m\n",
            "\u001b[0;31mKeyboardInterrupt\u001b[0m: Interrupted by user"
          ]
        }
      ]
    },
    {
      "cell_type": "code",
      "source": [
        "#  Exportar estoque para Excel (.xlsx)\n",
        "\n",
        "import pandas as pd\n",
        "\n",
        "def exportar_para_excel():\n",
        "    \"\"\"Exporta a tabela de produtos para um arquivo Excel bonitinho\"\"\"\n",
        "    conexao = sqlite3.connect(\"estoque.db\")\n",
        "    df = pd.read_sql_query(\"SELECT * FROM produtos\", conexao)\n",
        "    conexao.close()\n",
        "\n",
        "    df.to_excel(\"estoque_loja_croche.xlsx\", index=False)\n",
        "    print(\"🌸 Arquivo Excel criado com sucesso!\")\n",
        "\n",
        "#  Executar:\n",
        "exportar_para_excel()\n",
        "\n",
        "#  Baixar o arquivo Excel criado\n",
        "\n",
        "files.download(\"estoque_loja_croche.xlsx\")"
      ],
      "metadata": {
        "colab": {
          "base_uri": "https://localhost:8080/",
          "height": 34
        },
        "id": "il31141vSE1L",
        "outputId": "3fd3eb28-4c6d-42c5-eed2-1823be2e20ee"
      },
      "execution_count": null,
      "outputs": [
        {
          "output_type": "stream",
          "name": "stdout",
          "text": [
            "🌸 Arquivo Excel criado com sucesso!\n"
          ]
        },
        {
          "output_type": "display_data",
          "data": {
            "text/plain": [
              "<IPython.core.display.Javascript object>"
            ],
            "application/javascript": [
              "\n",
              "    async function download(id, filename, size) {\n",
              "      if (!google.colab.kernel.accessAllowed) {\n",
              "        return;\n",
              "      }\n",
              "      const div = document.createElement('div');\n",
              "      const label = document.createElement('label');\n",
              "      label.textContent = `Downloading \"${filename}\": `;\n",
              "      div.appendChild(label);\n",
              "      const progress = document.createElement('progress');\n",
              "      progress.max = size;\n",
              "      div.appendChild(progress);\n",
              "      document.body.appendChild(div);\n",
              "\n",
              "      const buffers = [];\n",
              "      let downloaded = 0;\n",
              "\n",
              "      const channel = await google.colab.kernel.comms.open(id);\n",
              "      // Send a message to notify the kernel that we're ready.\n",
              "      channel.send({})\n",
              "\n",
              "      for await (const message of channel.messages) {\n",
              "        // Send a message to notify the kernel that we're ready.\n",
              "        channel.send({})\n",
              "        if (message.buffers) {\n",
              "          for (const buffer of message.buffers) {\n",
              "            buffers.push(buffer);\n",
              "            downloaded += buffer.byteLength;\n",
              "            progress.value = downloaded;\n",
              "          }\n",
              "        }\n",
              "      }\n",
              "      const blob = new Blob(buffers, {type: 'application/binary'});\n",
              "      const a = document.createElement('a');\n",
              "      a.href = window.URL.createObjectURL(blob);\n",
              "      a.download = filename;\n",
              "      div.appendChild(a);\n",
              "      a.click();\n",
              "      div.remove();\n",
              "    }\n",
              "  "
            ]
          },
          "metadata": {}
        },
        {
          "output_type": "display_data",
          "data": {
            "text/plain": [
              "<IPython.core.display.Javascript object>"
            ],
            "application/javascript": [
              "download(\"download_503f99c3-5e27-408a-aee9-44866d8109e6\", \"estoque_loja_croche.xlsx\", 5106)"
            ]
          },
          "metadata": {}
        }
      ]
    }
  ]
}